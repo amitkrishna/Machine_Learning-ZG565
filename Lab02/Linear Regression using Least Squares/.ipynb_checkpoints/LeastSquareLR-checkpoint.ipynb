{
 "cells": [
  {
   "cell_type": "code",
   "execution_count": 1,
   "metadata": {},
   "outputs": [],
   "source": [
    "import numpy as np\n",
    "import pandas as pd\n",
    "import seaborn as sns\n",
    "import matplotlib.pyplot as plt\n",
    "import sklearn"
   ]
  },
  {
   "cell_type": "code",
   "execution_count": 3,
   "metadata": {},
   "outputs": [
    {
     "name": "stdout",
     "output_type": "stream",
     "text": [
      "This is a demo of Linear Regression using Least Square Method\n"
     ]
    }
   ],
   "source": [
    "print('This is a demo of Linear Regression using Least Square Method')"
   ]
  },
  {
   "cell_type": "code",
   "execution_count": 4,
   "metadata": {},
   "outputs": [],
   "source": [
    "read_data = pd.read_csv('salary_data.csv') ## Import the dataset"
   ]
  },
  {
   "cell_type": "code",
   "execution_count": 5,
   "metadata": {},
   "outputs": [
    {
     "name": "stdout",
     "output_type": "stream",
     "text": [
      "   YearsExperience  Salary\n",
      "0              1.1   39343\n",
      "1              1.3   46205\n",
      "2              1.5   37731\n",
      "3              2.0   43525\n",
      "4              2.2   39891\n",
      "Shape of Data set (30, 2)\n"
     ]
    }
   ],
   "source": [
    "print(read_data.head())\n",
    "print(f\"Shape of Data set {read_data.shape}\")"
   ]
  },
  {
   "cell_type": "code",
   "execution_count": 6,
   "metadata": {},
   "outputs": [
    {
     "name": "stdout",
     "output_type": "stream",
     "text": [
      "X = (30, 1)\n",
      "Y = (30,)\n"
     ]
    }
   ],
   "source": [
    "# Move columns in X in x-axis\n",
    "X = read_data.iloc[:, :-1].values # copy all columns exclusing last column\n",
    "print (f\"X = {X.shape}\")\n",
    "\n",
    "Y = read_data.iloc[:, 1].values # copy the last col only\n",
    "\n",
    "print(f\"Y = {Y.shape}\")"
   ]
  },
  {
   "cell_type": "code",
   "execution_count": 11,
   "metadata": {},
   "outputs": [
    {
     "data": {
      "image/png": "[encoded data removed]",
      "text/plain": [
       "<Figure size 432x288 with 1 Axes>"
      ]
     },
     "metadata": {
      "needs_background": "light"
     },
     "output_type": "display_data"
    }
   ],
   "source": [
    "# Visualization \n",
    "plt.scatter(X, Y, color='blue')\n",
    "plt.title('Salary VS Experience obs')\n",
    "plt.xlabel('Year of Experience')\n",
    "plt.ylabel('Salary')\n",
    "plt.show()"
   ]
  },
  {
   "cell_type": "code",
   "execution_count": 10,
   "metadata": {},
   "outputs": [
    {
     "name": "stdout",
     "output_type": "stream",
     "text": [
      "Xtrain [[ 2.9]\n",
      " [ 5.1]\n",
      " [ 3.2]\n",
      " [ 4.5]\n",
      " [ 8.2]\n",
      " [ 6.8]\n",
      " [ 1.3]\n",
      " [10.5]\n",
      " [ 3. ]\n",
      " [ 2.2]\n",
      " [ 5.9]\n",
      " [ 6. ]\n",
      " [ 3.7]\n",
      " [ 3.2]\n",
      " [ 9. ]\n",
      " [ 2. ]\n",
      " [ 1.1]\n",
      " [ 7.1]\n",
      " [ 4.9]\n",
      " [ 4. ]], YTrain [ 56642  66029  64445  61111 113812  91738  46205 121872  60150  39891\n",
      "  81363  93940  57189  54445 105582  43525  39343  98273  67938  56957]\n"
     ]
    }
   ],
   "source": [
    "# Create and train the ML Model\n",
    "\n",
    "# Find the mean\n",
    "\n",
    "X_Mean = np.mean(X)\n",
    "Y_Mean = np.mean(Y)\n",
    "\n",
    "# Finding Simulation parts\n",
    "\n",
    "num = 0\n",
    "den = 0\n",
    "\n",
    "for i in range(len(X)):\n",
    "    num = (X[i] - X_Mean)*(Y[i] - Y_Mean)\n",
    "    den = (X[i] - X_Mean)**2\n",
    "    \n",
    "    \n",
    "theta1 = num/den\n",
    "\n",
    "theta0 = Y_Mean - theta1*X_Mean\n",
    "\n",
    "\n",
    "\n",
    "\n",
    "from sklearn.model_selection import train_test_split\n",
    "\n",
    "X_train, X_test, Y_train, Y_test = train_test_split(X, Y, test_size=1/3, random_state=0) \n",
    "print(f\"Xtrain {X_train}, YTrain {Y_train}\")\n"
   ]
  },
  {
   "cell_type": "code",
   "execution_count": 14,
   "metadata": {},
   "outputs": [
    {
     "name": "stdout",
     "output_type": "stream",
     "text": [
      "For x=7 yrs of experiences , predicted salary = [90919.26863753]\n"
     ]
    }
   ],
   "source": [
    "# Prediction\n",
    "Y_pred = theta1 * X + theta0\n",
    "# Predict values for say x=7\n",
    "\n",
    "x = 7\n",
    "\n",
    "y_pred = theta1 * x + theta0\n",
    "print(f\"For x=7 yrs of experiences , predicted salary = {y_pred}\")"
   ]
  },
  {
   "cell_type": "code",
   "execution_count": 15,
   "metadata": {},
   "outputs": [
    {
     "data": {
      "image/png": "[encoded data removed]",
      "text/plain": [
       "<Figure size 432x288 with 1 Axes>"
      ]
     },
     "metadata": {
      "needs_background": "light"
     },
     "output_type": "display_data"
    }
   ],
   "source": [
    "# Visualize the dataset and plot the residuals \n",
    "\n",
    "\n",
    "fig, ax = plt.subplots()\n",
    "Y = Y.reshape(-1,1)\n",
    "\n",
    "ax.scatter(X, Y, color='blue') # observed values\n",
    "ax.scatter(X, Y_pred, color='green') # predicted values\n",
    "ax.vlines(X, Y, Y_pred, color='red') # residual lines\n",
    "\n",
    "plt.plot([min(X), max(X)], [min(Y_pred), max(Y_pred)], color='black') # regression line\n",
    "\n",
    "plt.title('Salary VS Experience')\n",
    "plt.xlabel('Year of Experience')\n",
    "plt.ylabel('Salary')\n",
    "plt.show()\n"
   ]
  },
  {
   "cell_type": "code",
   "execution_count": 17,
   "metadata": {},
   "outputs": [
    {
     "ename": "NameError",
     "evalue": "name 'T_pred' is not defined",
     "output_type": "error",
     "traceback": [
      "\u001b[1;31m---------------------------------------------------------------------------\u001b[0m",
      "\u001b[1;31mNameError\u001b[0m                                 Traceback (most recent call last)",
      "\u001b[1;32m<ipython-input-17-c25ba6cfdcaf>\u001b[0m in \u001b[0;36m<module>\u001b[1;34m\u001b[0m\n\u001b[0;32m      5\u001b[0m \u001b[1;33m\u001b[0m\u001b[0m\n\u001b[0;32m      6\u001b[0m \u001b[1;31m# The mean squared error\u001b[0m\u001b[1;33m\u001b[0m\u001b[1;33m\u001b[0m\u001b[1;33m\u001b[0m\u001b[0m\n\u001b[1;32m----> 7\u001b[1;33m \u001b[0mprint\u001b[0m\u001b[1;33m(\u001b[0m\u001b[1;34mf\"Mean squared error : { mean_squared_error(X, T_pred) }\"\u001b[0m\u001b[1;33m)\u001b[0m\u001b[1;33m\u001b[0m\u001b[1;33m\u001b[0m\u001b[0m\n\u001b[0m\u001b[0;32m      8\u001b[0m \u001b[1;33m\u001b[0m\u001b[0m\n\u001b[0;32m      9\u001b[0m \u001b[1;31m# varience score: 1 is prefect prediction\u001b[0m\u001b[1;33m\u001b[0m\u001b[1;33m\u001b[0m\u001b[1;33m\u001b[0m\u001b[0m\n",
      "\u001b[1;31mNameError\u001b[0m: name 'T_pred' is not defined"
     ]
    }
   ],
   "source": [
    "# Performance Measures \n",
    "\n",
    "\n",
    "from sklearn.metrics import mean_squared_error, r2_score\n",
    "\n",
    "# The mean squared error\n",
    "print(f\"Mean squared error : { mean_squared_error(X, T_pred) }\")\n",
    "\n",
    "# varience score: 1 is prefect prediction\n",
    "print(f\"Varience score = { r2_score(X, Y_pred) }\")"
   ]
  }
 ],
 "metadata": {
  "kernelspec": {
   "display_name": "Python 3",
   "language": "python",
   "name": "python3"
  },
  "language_info": {
   "codemirror_mode": {
    "name": "ipython",
    "version": 3
   },
   "file_extension": ".py",
   "mimetype": "text/x-python",
   "name": "python",
   "nbconvert_exporter": "python",
   "pygments_lexer": "ipython3",
   "version": "3.7.6"
  }
 },
 "nbformat": 4,
 "nbformat_minor": 4
}
